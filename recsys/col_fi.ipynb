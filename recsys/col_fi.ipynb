{
 "cells": [
  {
   "cell_type": "code",
   "execution_count": 44,
   "metadata": {},
   "outputs": [
    {
     "name": "stdout",
     "output_type": "stream",
     "text": [
      "Computing the cosine similarity matrix...\n",
      "Done computing similarity matrix.\n",
      "For the first purchased item: books_general_interest, the recommended second purchased item is: frozenset({'market_place'})\n"
     ]
    },
    {
     "name": "stderr",
     "output_type": "stream",
     "text": [
      "/Library/Frameworks/Python.framework/Versions/3.11/lib/python3.11/site-packages/mlxtend/frequent_patterns/fpcommon.py:110: DeprecationWarning: DataFrames with non-bool types result in worse computationalperformance and their support might be discontinued in the future.Please use a DataFrame with bool type\n",
      "  warnings.warn(\n"
     ]
    }
   ],
   "source": [
    "import pandas as pd\n",
    "from surprise import Dataset, Reader\n",
    "from surprise import KNNBasic\n",
    "from mlxtend.frequent_patterns import apriori\n",
    "from mlxtend.frequent_patterns import association_rules\n",
    "\n",
    "# Load the datasets\n",
    "orders = pd.read_csv('../dataset/brazil/olist_orders_dataset.csv')\n",
    "order_items = pd.read_csv('../dataset/brazil/olist_order_items_dataset.csv')\n",
    "products = pd.read_csv('../dataset/brazil/olist_products_dataset.csv')\n",
    "translations = pd.read_csv('../dataset/brazil/product_category_name_translation.csv')\n",
    "review = pd.read_csv('../dataset/brazil/olist_order_reviews_dataset.csv')\n",
    "\n",
    "# 1. Join tables\n",
    "data = orders.merge(order_items, on='order_id')\n",
    "data = data.merge(products, on='product_id')\n",
    "data = data.merge(translations, on='product_category_name')\n",
    "data = data.merge(review, on='order_id')\n",
    "\n",
    "# 2. Translate product category names to English and filter orders with 2 or more items\n",
    "order_counts = data['order_id'].value_counts()\n",
    "multi_item_orders = order_counts[order_counts >= 2].index\n",
    "filtered_data = data[data['order_id'].isin(multi_item_orders)]\n",
    "filtered_data.columns\n",
    "\n",
    "\n",
    "# 3. Collaborative filtering to build a recommendation system\n",
    "reader = Reader(rating_scale=(1, 5))\n",
    "dataset = Dataset.load_from_df(filtered_data[['customer_id', 'product_id', 'review_score']], reader)\n",
    "trainset = dataset.build_full_trainset()\n",
    "sim_options = {'name': 'cosine', 'user_based': False}\n",
    "algo = KNNBasic(sim_options=sim_options)\n",
    "algo.fit(trainset)\n",
    "\n",
    "# 4. Logic to predict the second purchased item\n",
    "# Generating frequent itemsets and association rules\n",
    "# ... rest of the code\n",
    "\n",
    "# One-hot encode 'product_category_name_english' column\n",
    "basket = (filtered_data.groupby(['order_id', 'product_category_name_english'])['order_item_id']\n",
    "          .count().unstack().reset_index().fillna(0).set_index('order_id'))\n",
    "\n",
    "# Convert the units to 1 hot encoded values\n",
    "def encode_units(x):\n",
    "    if x <= 0:\n",
    "        return 0\n",
    "    if x >= 1:\n",
    "        return 1\n",
    "\n",
    "basket_sets = basket.applymap(encode_units)\n",
    "\n",
    "# Apply apriori algorithm\n",
    "frequent_itemsets = apriori(basket_sets, min_support=0.0001, use_colnames=True)\n",
    "\n",
    "# Generate association rules\n",
    "rules = association_rules(frequent_itemsets, metric='lift', min_threshold=0.01)\n",
    "\n",
    "# get the list of unique product categories\n",
    "category_list = filtered_data['product_category_name_english'].unique()\n",
    "\n",
    "# For a given first purchased item, predict the second purchased item\n",
    "first_item = \"books_general_interest\"\n",
    "recommended_items = rules[rules['antecedents'].apply(lambda x: first_item in x)]\n",
    "recommended_items = recommended_items.sort_values('confidence', ascending=False)\n",
    "\n",
    "if not recommended_items.empty:\n",
    "    second_item = recommended_items['consequents'].iloc[0]\n",
    "    print(f'For the first purchased item: {first_item}, the recommended second purchased item is: {second_item}')\n",
    "else:\n",
    "    print(f'No recommendations available for the first purchased item: {first_item}')\n"
   ]
  },
  {
   "cell_type": "code",
   "execution_count": 43,
   "metadata": {},
   "outputs": [
    {
     "data": {
      "text/plain": [
       "array(['housewares', 'cool_stuff', 'furniture_decor',\n",
       "       'industry_commerce_and_business', 'bed_bath_table', 'food_drink',\n",
       "       'computers_accessories', 'garden_tools', 'stationery',\n",
       "       'watches_gifts', 'health_beauty',\n",
       "       'kitchen_dining_laundry_garden_furniture', 'auto', 'perfumery',\n",
       "       'drinks', 'sports_leisure', 'market_place', 'baby',\n",
       "       'consoles_games', 'construction_tools_construction',\n",
       "       'home_construction', 'small_appliances', 'books_general_interest',\n",
       "       'electronics', 'dvds_blu_ray', 'home_confort', 'toys', 'pet_shop',\n",
       "       'music', 'telephony', 'christmas_supplies', 'luggage_accessories',\n",
       "       'home_comfort_2', 'fashion_bags_accessories',\n",
       "       'musical_instruments', 'food', 'costruction_tools_garden', 'art',\n",
       "       'furniture_living_room', 'construction_tools_lights',\n",
       "       'furniture_bedroom', 'office_furniture', 'computers',\n",
       "       'books_technical', 'flowers', 'arts_and_craftmanship',\n",
       "       'air_conditioning', 'tablets_printing_image',\n",
       "       'construction_tools_safety', 'home_appliances_2', 'party_supplies',\n",
       "       'fixed_telephony', 'cine_photo', 'fashion_shoes', 'la_cuisine',\n",
       "       'signaling_and_security', 'audio', 'fashion_underwear_beach',\n",
       "       'fashion_sport', 'fashion_childrens_clothes', 'home_appliances',\n",
       "       'agro_industry_and_commerce', 'cds_dvds_musicals',\n",
       "       'fashion_male_clothing', 'fashio_female_clothing',\n",
       "       'small_appliances_home_oven_and_coffee', 'costruction_tools_tools',\n",
       "       'diapers_and_hygiene', 'books_imported'], dtype=object)"
      ]
     },
     "execution_count": 43,
     "metadata": {},
     "output_type": "execute_result"
    }
   ],
   "source": [
    "# make unique category list\n",
    "category_list = filtered_data['product_category_name_english'].unique()\n",
    "category_list\n"
   ]
  },
  {
   "cell_type": "code",
   "execution_count": null,
   "metadata": {},
   "outputs": [],
   "source": []
  }
 ],
 "metadata": {
  "kernelspec": {
   "display_name": "Python 3",
   "language": "python",
   "name": "python3"
  },
  "language_info": {
   "codemirror_mode": {
    "name": "ipython",
    "version": 3
   },
   "file_extension": ".py",
   "mimetype": "text/x-python",
   "name": "python",
   "nbconvert_exporter": "python",
   "pygments_lexer": "ipython3",
   "version": "3.11.3"
  },
  "orig_nbformat": 4
 },
 "nbformat": 4,
 "nbformat_minor": 2
}
